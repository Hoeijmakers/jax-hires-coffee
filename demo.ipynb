{
 "cells": [
  {
   "cell_type": "markdown",
   "id": "aef25373-1599-442f-bdbf-3c207538ae61",
   "metadata": {},
   "source": [
    "# LMU Code Coffee: [JAX](https://github.com/google/jax)\n",
    "Brett Morris\n",
    "\n",
    "### Install\n",
    "\n",
    "Installation of jax is sometimes [nontrivial](https://github.com/google/jax#installation), but if you're feeling lucky, you can try the following on your laptop (CPU): \n",
    "```bash\n",
    "pip install --upgrade \"jax[cpu]\"\n",
    "```\n",
    "jax can run on GPUs and TPUs but requires specific builds for each system. See the link above for details.\n",
    "\n",
    "### Why jax?\n",
    "\n",
    "It exploits [_autodiff_](https://github.com/hips/autograd) with [_accelerated linear algebra_](https://www.tensorflow.org/xla) with a _numpy-like API_ but a [_just-in-time compiled backend_](https://github.com/google/jax#compilation-with-jit) to calculate blazing fast, differentiable models. Let's break that down: \n",
    "\n",
    "* The automatic differentiation allows you to compute gradients of your mathematical models without explicitly deriving gradients for each function. These gradients can be used for gradient-based inference techniques like Hamiltonian Monte Carlo.\n",
    "* The accelerated linear algebra (XLA) package is an optimizing compiler designed for machine learning. You write Python code and it gets just-in-time compiled before you execute it.\n",
    "\n",
    "\n",
    "### What does jax code look like? \n",
    "\n",
    "It looks like ordinary Python code, but you generally use jax's numpy API rather than ordinary numpy to handle array calculations.  \n",
    "\n",
    "For example, here's how we can create an array of linearly spaced values:"
   ]
  },
  {
   "cell_type": "code",
   "execution_count": 107,
   "id": "dea3d13b-f874-4b51-89e0-c63c5d8019aa",
   "metadata": {},
   "outputs": [
    {
     "data": {
      "text/plain": [
       "DeviceArray([0.0000000e+00, 1.0000001e-07, 2.0000002e-07, 3.0000001e-07,\n",
       "             4.0000003e-07, 5.0000006e-07, 6.0000002e-07, 7.0000004e-07,\n",
       "             8.0000007e-07, 9.0000009e-07], dtype=float32)"
      ]
     },
     "execution_count": 107,
     "metadata": {},
     "output_type": "execute_result"
    }
   ],
   "source": [
    "from jax import numpy as jnp\n",
    "\n",
    "dev_arr = jnp.linspace(0, 1, 10_000_000)\n",
    "\n",
    "dev_arr[:10]"
   ]
  },
  {
   "cell_type": "markdown",
   "id": "0ee0fae9-f262-41b3-baec-f18f2cf49ff6",
   "metadata": {},
   "source": [
    "Note that the above code created a `DeviceArray` object, which is not an ordinary numpy array. This is limited to data type `float32` by default. `DeviceArray` objects have the usual built-in methods: "
   ]
  },
  {
   "cell_type": "code",
   "execution_count": 108,
   "id": "b38ed652-b9a0-47ff-94c0-4f804608c5f6",
   "metadata": {},
   "outputs": [
    {
     "data": {
      "text/plain": [
       "(DeviceArray(0.5, dtype=float32), DeviceArray(0.28867516, dtype=float32))"
      ]
     },
     "execution_count": 108,
     "metadata": {},
     "output_type": "execute_result"
    }
   ],
   "source": [
    "dev_arr.mean(), dev_arr.std()"
   ]
  },
  {
   "cell_type": "markdown",
   "id": "d8a69814-1708-46eb-b2e0-491b1243810c",
   "metadata": {},
   "source": [
    "Now let's create some synthetic data which we'll fit using jax: "
   ]
  },
  {
   "cell_type": "code",
   "execution_count": 186,
   "id": "93f3432e-759b-4fbd-842f-5972c2da24c7",
   "metadata": {},
   "outputs": [
    {
     "data": {
      "text/plain": [
       "[<matplotlib.lines.Line2D at 0x7fd5c1ee95c0>]"
      ]
     },
     "execution_count": 186,
     "metadata": {},
     "output_type": "execute_result"
    },
    {
     "data": {
      "image/png": "[encoded data removed]",
      "text/plain": [
       "<Figure size 432x288 with 1 Axes>"
      ]
     },
     "metadata": {
      "needs_background": "light"
     },
     "output_type": "display_data"
    }
   ],
   "source": [
    "import numpy as np\n",
    "import matplotlib.pyplot as plt\n",
    "\n",
    "np.random.seed(42)\n",
    "\n",
    "x = dev_arr.copy()\n",
    "true_period = 0.3\n",
    "true_amp = 0.4\n",
    "true_slope = 1\n",
    "yerr = 0.1\n",
    "\n",
    "\n",
    "y = np.asarray(\n",
    "    yerr * np.random.normal(size=len(x)) + true_amp * np.cos(2 * np.pi * x / true_period) + true_slope * x, \n",
    "    dtype='float32'\n",
    ")\n",
    "\n",
    "plt.plot(x[::1000], y[::1000], 'k.')"
   ]
  },
  {
   "cell_type": "markdown",
   "id": "4704ba30-c8e5-4420-b416-83263acecd40",
   "metadata": {},
   "source": [
    "We could fit the observations $(x, y)$ with numpy and scipy like this: "
   ]
  },
  {
   "cell_type": "code",
   "execution_count": 208,
   "id": "6e8dfbec-27c8-486c-b988-fd805913b50a",
   "metadata": {},
   "outputs": [],
   "source": [
    "from scipy.optimize import fmin_powell, fmin_l_bfgs_b\n",
    "\n",
    "def model_numpy(p):\n",
    "    period, amp, slope, phi = p\n",
    "    \n",
    "    return amp * np.cos(2 * np.pi * np.asarray(x, dtype='float32') / period - phi) + slope * np.asarray(x, dtype='float32')\n",
    "\n",
    "def chi2_numpy(p):\n",
    "    return np.sum((model_numpy(p) - np.asarray(y, dtype='float32'))**2 / yerr**2)\n",
    "\n",
    "init_guess = [0.35, 0.4, 1.1, 0]\n",
    "bounds = [[0.2, 0.6], [0.01, 1], [0.5, 1.5], [-np.pi, np.pi]]\n",
    "\n",
    "bestp_numpy = fmin_l_bfgs_b(chi2_numpy, init_guess, approx_grad=True, bounds=bounds, factr=10)"
   ]
  },
  {
   "cell_type": "markdown",
   "id": "ce73d6bb-670a-425a-b72d-ddf48b6e80f1",
   "metadata": {},
   "source": [
    "The `fmin_powell` function does optimization _without_ computing gradients. The best fit solutions are: "
   ]
  },
  {
   "cell_type": "code",
   "execution_count": 209,
   "id": "206f52ee-35bd-497e-86d1-3df712de32ae",
   "metadata": {},
   "outputs": [
    {
     "data": {
      "text/plain": [
       "(array([0.30180746, 0.4       , 1.1       , 0.        ]),\n",
       " 140278.34,\n",
       " {'grad': array([0., 0., 0., 0.]),\n",
       "  'task': 'CONVERGENCE: NORM_OF_PROJECTED_GRADIENT_<=_PGTOL',\n",
       "  'funcalls': 15,\n",
       "  'nit': 1,\n",
       "  'warnflag': 0})"
      ]
     },
     "execution_count": 212,
     "metadata": {},
     "output_type": "execute_result"
    }
   ],
   "source": [
    "bestp_numpy"
   ]
  },
  {
   "cell_type": "markdown",
   "id": "59686e33-033b-4cc2-a71d-a9ba870e061f",
   "metadata": {},
   "source": [
    "Which look like this: "
   ]
  },
  {
   "cell_type": "code",
   "execution_count": 210,
   "id": "68221083-ffd1-4b91-8a61-bd1ad87ad9ef",
   "metadata": {},
   "outputs": [
    {
     "data": {
      "text/plain": [
       "[<matplotlib.lines.Line2D at 0x7fd5812f6e10>]"
      ]
     },
     "execution_count": 213,
     "metadata": {},
     "output_type": "execute_result"
    },
    {
     "data": {
      "image/png": "[encoded data removed]",
      "text/plain": [
       "<Figure size 432x288 with 1 Axes>"
      ]
     },
     "metadata": {
      "needs_background": "light"
     },
     "output_type": "display_data"
    }
   ],
   "source": [
    "plt.plot(x[::1000], y[::1000], 'k.')\n",
    "plt.plot(x[::1000], model_numpy(init_guess)[::1000], 'b')\n",
    "plt.plot(x[::1000], model_numpy(bestp_numpy[0])[::1000], 'r', ls='--', lw=3)"
   ]
  },
  {
   "cell_type": "markdown",
   "id": "b3e6c2a5-d3c8-4702-94c8-6fed318363a4",
   "metadata": {},
   "source": [
    "Which are all close to their true values. Good job numpy/scipy! Now let's implement the same thing in jax. \n",
    "\n",
    "Let's specify the model that we will fit to the data using the numpy module within jax. We'll also \"decorate\" it with the `jit` decorator, which will compile the function for us. "
   ]
  },
  {
   "cell_type": "code",
   "execution_count": 118,
   "id": "7e8631f2-0a94-4c20-8423-272c1e70679e",
   "metadata": {},
   "outputs": [],
   "source": [
    "from jax import jit\n",
    "\n",
    "@jit\n",
    "def model_jax(p): \n",
    "    period, amp, slope = p\n",
    "    \n",
    "    # the use of `jnp` is the only difference from the numpy version:\n",
    "    return amp * jnp.cos(2 * np.pi * x / period) + slope * x\n",
    "\n",
    "@jit\n",
    "def chi2_jax(p):\n",
    "    return jnp.sum((model_jax(p) - y)**2)"
   ]
  },
  {
   "cell_type": "markdown",
   "id": "699473a2-ba48-4f5e-bfc2-bbe79f556847",
   "metadata": {},
   "source": [
    "Now we import the minimize module from the `scipy.optimize` API within jax: "
   ]
  },
  {
   "cell_type": "code",
   "execution_count": 119,
   "id": "a251754d-4d35-4fff-bf6b-64d510234f27",
   "metadata": {},
   "outputs": [
    {
     "data": {
      "text/plain": [
       "OptimizeResults(x=DeviceArray([-1.0875516 ,  0.04143282,  1.0564185 ], dtype=float32), success=DeviceArray(False, dtype=bool), status=DeviceArray(3, dtype=int32, weak_type=True), fun=DeviceArray(868919.4, dtype=float32), jac=DeviceArray([ 7.8125000e-03, -5.1500000e+01,  9.2421875e+01], dtype=float32), hess_inv=DeviceArray([[ 4.0762707e-06, -1.4142411e-07, -5.1208372e-07],\n",
       "             [-1.4142574e-07,  1.1900859e-07,  4.7038686e-08],\n",
       "             [-5.1208451e-07,  4.7038359e-08,  2.2042782e-07]],            dtype=float32), nfev=DeviceArray(63, dtype=int32, weak_type=True), njev=DeviceArray(63, dtype=int32, weak_type=True), nit=DeviceArray(28, dtype=int32, weak_type=True))"
      ]
     },
     "execution_count": 119,
     "metadata": {},
     "output_type": "execute_result"
    }
   ],
   "source": [
    "from jax.scipy.optimize import minimize\n",
    "\n",
    "bestp_jax = minimize(chi2_jax, jnp.array(init_guess), method='bfgs')\n",
    "\n",
    "bestp_jax"
   ]
  },
  {
   "cell_type": "markdown",
   "id": "55294c8c-5b40-4690-b840-b49ad450124b",
   "metadata": {},
   "source": [
    "In the above cell, we have used _gradient-based_ optimization with the [BFGS method](https://en.wikipedia.org/wiki/Broyden%E2%80%93Fletcher%E2%80%93Goldfarb%E2%80%93Shanno_algorithm). Note that we didn't have to specify the gradient of our model with respect to each free parameter, that was done for us!"
   ]
  },
  {
   "cell_type": "markdown",
   "id": "261553b9-3dd7-4613-926f-bc9724d69600",
   "metadata": {},
   "source": [
    "Now let's check if there's any speed difference between the two implementations:"
   ]
  },
  {
   "cell_type": "code",
   "execution_count": 120,
   "id": "d7298964-6946-4ec1-ab56-02d58133de66",
   "metadata": {},
   "outputs": [
    {
     "name": "stdout",
     "output_type": "stream",
     "text": [
      "Numpy only:\n",
      "31.8 ms ± 235 µs per loop (mean ± std. dev. of 7 runs, 10 loops each)\n",
      "jax:\n",
      "15.8 ms ± 331 µs per loop (mean ± std. dev. of 7 runs, 1 loop each)\n"
     ]
    }
   ],
   "source": [
    "print('Numpy only:')\n",
    "time_numpy = %timeit -o model_numpy(init_guess)\n",
    "print('jax:')\n",
    "time_jax = %timeit -o model_jax(init_guess)"
   ]
  },
  {
   "cell_type": "markdown",
   "id": "60e67459-f98d-402c-9340-b32d742755c8",
   "metadata": {},
   "source": [
    "It looks like the two models have similar in speeds, but the optimization is significantly different:"
   ]
  },
  {
   "cell_type": "code",
   "execution_count": 121,
   "id": "20f6aefa-b89c-44ec-b2ad-22277321212e",
   "metadata": {},
   "outputs": [
    {
     "name": "stdout",
     "output_type": "stream",
     "text": [
      "Numpy only:\n",
      "165 ms ± 3.08 ms per loop (mean ± std. dev. of 7 runs, 10 loops each)\n",
      "jax:\n",
      "4.46 s ± 128 ms per loop (mean ± std. dev. of 7 runs, 1 loop each)\n"
     ]
    }
   ],
   "source": [
    "print('Numpy only:')\n",
    "time_numpy_opt = %timeit -o fmin_l_bfgs_b(chi2_numpy, init_guess, disp=0, approx_grad=True)\n",
    "print('jax:')\n",
    "time_jax_opt = %timeit -o minimize(chi2_jax, jnp.array(init_guess), method='bfgs')"
   ]
  },
  {
   "cell_type": "markdown",
   "id": "219ba7ed-970b-45df-856b-cf34651afa90",
   "metadata": {},
   "source": [
    "The optimization is much slower!"
   ]
  },
  {
   "cell_type": "code",
   "execution_count": null,
   "id": "ad23f33d-f14d-4458-8af2-c523983bfda8",
   "metadata": {},
   "outputs": [],
   "source": []
  }
 ],
 "metadata": {
  "kernelspec": {
   "display_name": "Python 3",
   "language": "python",
   "name": "python3"
  },
  "language_info": {
   "codemirror_mode": {
    "name": "ipython",
    "version": 3
   },
   "file_extension": ".py",
   "mimetype": "text/x-python",
   "name": "python",
   "nbconvert_exporter": "python",
   "pygments_lexer": "ipython3",
   "version": "3.7.3"
  }
 },
 "nbformat": 4,
 "nbformat_minor": 5
}
